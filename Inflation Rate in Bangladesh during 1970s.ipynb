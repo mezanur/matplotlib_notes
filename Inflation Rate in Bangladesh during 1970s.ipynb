{
 "cells": [
  {
   "cell_type": "code",
   "execution_count": 1,
   "id": "helpful-notebook",
   "metadata": {},
   "outputs": [],
   "source": [
    "import pandas as pd\n",
    "import matplotlib.pyplot as plt"
   ]
  },
  {
   "cell_type": "code",
   "execution_count": 2,
   "id": "recovered-water",
   "metadata": {},
   "outputs": [],
   "source": [
    "plt.style.use('ggplot')"
   ]
  },
  {
   "cell_type": "code",
   "execution_count": 3,
   "id": "bridal-tourist",
   "metadata": {},
   "outputs": [],
   "source": [
    "rawdf = pd.read_csv('wbBD/wb_bd.csv')\n",
    "ind_df = pd.read_csv('wbBD/indicators.csv', index_col='INDICATOR_CODE')\n",
    "indicator = ind_df['INDICATOR_NAME']"
   ]
  },
  {
   "cell_type": "code",
   "execution_count": 4,
   "id": "mounted-pricing",
   "metadata": {
    "scrolled": true
   },
   "outputs": [
    {
     "data": {
      "text/plain": [
       "INDICATOR_CODE\n",
       "NY.GDP.DEFL.KD.ZG                      Inflation, GDP deflator (annual %)\n",
       "IC.FRM.CORR.ZS          Informal payments to public officials (% of fi...\n",
       "FP.CPI.TOTL.ZG                      Inflation, consumer prices (annual %)\n",
       "NY.GDP.DEFL.KD.ZG.AD    Inflation, GDP deflator: linked series (annual %)\n",
       "Name: INDICATOR_NAME, dtype: object"
      ]
     },
     "execution_count": 4,
     "metadata": {},
     "output_type": "execute_result"
    }
   ],
   "source": [
    "indicator[indicator.str.startswith('Inf')]"
   ]
  },
  {
   "cell_type": "code",
   "execution_count": 5,
   "id": "beginning-period",
   "metadata": {},
   "outputs": [],
   "source": [
    "rawdf.set_axis(rawdf.loc[3], axis=1, inplace=True)"
   ]
  },
  {
   "cell_type": "code",
   "execution_count": 6,
   "id": "french-sister",
   "metadata": {},
   "outputs": [],
   "source": [
    "df = rawdf.iloc[3:, 2:].set_index('Indicator Code').drop('Indicator Code')"
   ]
  },
  {
   "cell_type": "code",
   "execution_count": 7,
   "id": "informational-equilibrium",
   "metadata": {},
   "outputs": [],
   "source": [
    "df.drop(['Indicator Name'], axis=1, inplace=True)\n",
    "df = df.transpose()"
   ]
  },
  {
   "cell_type": "code",
   "execution_count": 8,
   "id": "governmental-consolidation",
   "metadata": {},
   "outputs": [],
   "source": [
    "df.reset_index(inplace=True)"
   ]
  },
  {
   "cell_type": "code",
   "execution_count": 9,
   "id": "adaptive-voltage",
   "metadata": {},
   "outputs": [],
   "source": [
    "df[3] = pd.to_datetime(df[3], format=\"%Y\")"
   ]
  },
  {
   "cell_type": "code",
   "execution_count": 10,
   "id": "mechanical-walnut",
   "metadata": {},
   "outputs": [],
   "source": [
    "df.rename(columns={3:'Year'}, inplace=True)"
   ]
  },
  {
   "cell_type": "code",
   "execution_count": 11,
   "id": "promotional-parliament",
   "metadata": {},
   "outputs": [],
   "source": [
    "df.set_index('Year', inplace=True)"
   ]
  },
  {
   "cell_type": "code",
   "execution_count": 12,
   "id": "rough-kelly",
   "metadata": {},
   "outputs": [],
   "source": [
    "seventies = df['NY.GDP.DEFL.KD.ZG'].dropna()['1967':'1980']"
   ]
  },
  {
   "cell_type": "code",
   "execution_count": 13,
   "id": "surprised-system",
   "metadata": {},
   "outputs": [],
   "source": [
    "years = seventies.index.strftime('%Y')\n",
    "inf_rate = seventies.values"
   ]
  },
  {
   "cell_type": "code",
   "execution_count": 14,
   "id": "scheduled-suite",
   "metadata": {},
   "outputs": [],
   "source": [
    "yr_list = list(years)\n",
    "rate_list = list(inf_rate)"
   ]
  },
  {
   "cell_type": "code",
   "execution_count": 15,
   "id": "vocal-telephone",
   "metadata": {},
   "outputs": [],
   "source": [
    "yr_list.reverse()\n",
    "rate_list.reverse()"
   ]
  },
  {
   "cell_type": "code",
   "execution_count": 16,
   "id": "relative-sunset",
   "metadata": {
    "scrolled": true
   },
   "outputs": [
    {
     "data": {
      "text/plain": [
       "Text(0.5, 1.0, 'Inflation Rate in Bangladesh')"
      ]
     },
     "execution_count": 16,
     "metadata": {},
     "output_type": "execute_result"
    },
    {
     "data": {
      "image/png": "[encoded data removed]",
      "text/plain": [
       "<Figure size 432x288 with 1 Axes>"
      ]
     },
     "metadata": {},
     "output_type": "display_data"
    }
   ],
   "source": [
    "plt.barh(yr_list, rate_list, color='#581b98')\n",
    "plt.xlabel('Inflation Rate %')\n",
    "plt.title('Inflation Rate in Bangladesh')\n",
    "#plt.savefig('savefig/inf_rate_bd.png', dpi=1000)"
   ]
  }
 ],
 "metadata": {
  "kernelspec": {
   "display_name": "Python 3",
   "language": "python",
   "name": "python3"
  },
  "language_info": {
   "codemirror_mode": {
    "name": "ipython",
    "version": 3
   },
   "file_extension": ".py",
   "mimetype": "text/x-python",
   "name": "python",
   "nbconvert_exporter": "python",
   "pygments_lexer": "ipython3",
   "version": "3.9.2"
  }
 },
 "nbformat": 4,
 "nbformat_minor": 5
}
